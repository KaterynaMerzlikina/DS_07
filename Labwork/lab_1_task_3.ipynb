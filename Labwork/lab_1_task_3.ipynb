{
 "cells": [
  {
   "cell_type": "markdown",
   "metadata": {},
   "source": [
    "# 1. Markdown cells\n",
    "\n",
    "* Hi! It's Main Academy?\n",
    "* All HTML tabs are supported!\n",
    "* Моя сторінка на [Лінкедін](https://www.linkedin.com/feed/)\n",
    "\n",
    "\n",
    "# This is heading 1\n",
    "\n",
    "## This is heading 2\n",
    "\n",
    "some gray colored text:\n",
    "\n",
    "> This is where we can bring qoutes and present them nicely\n",
    "\n",
    "And this is the paragraph about something very important. Even math: \n",
    "\n",
    "$$Y_{sub}=\\sqrt(X_{sub})$$\n",
    "\n",
    "Or python code example:\n",
    "\n",
    "```python\n",
    "import math  \n",
    "def foo():  \n",
    "    return \"foo\"  \n",
    "```\n"
   ]
  }
 ],
 "metadata": {
  "kernelspec": {
   "display_name": "Python 3",
   "language": "python",
   "name": "python3"
  },
  "language_info": {
   "codemirror_mode": {
    "name": "ipython",
    "version": 3
   },
   "file_extension": ".py",
   "mimetype": "text/x-python",
   "name": "python",
   "nbconvert_exporter": "python",
   "pygments_lexer": "ipython3",
   "version": "3.8.5"
  }
 },
 "nbformat": 4,
 "nbformat_minor": 4
}
