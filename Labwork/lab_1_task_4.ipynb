{
 "cells": [
  {
   "cell_type": "markdown",
   "metadata": {},
   "source": [
    ">_Here is the sample mean_:\n",
    "\n",
    "$$\\mathcal{\\bar{y} = \\frac{1}{n}\\sum_{i=1}^n y_{i}}$$\n",
    "\n",
    ">_Here is the sample variance_:\n",
    "\n",
    "$$\\mathcal{\\sigma^2 = {\\sum_{i=1}^n (y_{i}-\\bar{y})^2 \\over n-1}}$$\n",
    "\n",
    ">_Here is the sample standart deviation_:\n",
    "\n",
    "$$\\mathcal{\\sigma = \\sqrt{\\sum_{i=1}^n (y_{i}-\\bar{y})^2 \\over n-1}}$$\n"
   ]
  },
  {
   "cell_type": "code",
   "execution_count": null,
   "metadata": {},
   "outputs": [],
   "source": []
  }
 ],
 "metadata": {
  "kernelspec": {
   "display_name": "Python 3",
   "language": "python",
   "name": "python3"
  },
  "language_info": {
   "codemirror_mode": {
    "name": "ipython",
    "version": 3
   },
   "file_extension": ".py",
   "mimetype": "text/x-python",
   "name": "python",
   "nbconvert_exporter": "python",
   "pygments_lexer": "ipython3",
   "version": "3.8.5"
  }
 },
 "nbformat": 4,
 "nbformat_minor": 4
}
