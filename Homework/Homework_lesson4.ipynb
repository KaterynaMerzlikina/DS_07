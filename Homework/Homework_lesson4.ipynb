{
 "cells": [
  {
   "cell_type": "markdown",
   "metadata": {},
   "source": [
    "**_По двох введеним користувачем катетах обчислити довжину гіпотенузи_**"
   ]
  },
  {
   "cell_type": "markdown",
   "metadata": {},
   "source": [
    "$$с={\\sqrt(a^2 +b^2)}$$"
   ]
  },
  {
   "cell_type": "code",
   "execution_count": null,
   "metadata": {},
   "outputs": [],
   "source": [
    "import math as m\n",
    "\n",
    "leg_1 = int(input('Leg one in cm:\\n'))\n",
    "leg_2 = int(input('Leg two in cm:\\n'))\n",
    "hypotenuse = m.sqrt(leg_1**2 + leg_2**2)\n",
    "print(f'Hypotenuse = {round(hypotenuse,2)} cm')"
   ]
  },
  {
   "cell_type": "markdown",
   "metadata": {},
   "source": [
    "**_Розрахувати місячні виплати і сумарну виплату по кредиту. Про кредит відомо, що він становить х гривень береться на х років під х відсотків._**"
   ]
  },
  {
   "cell_type": "code",
   "execution_count": null,
   "metadata": {},
   "outputs": [],
   "source": [
    "def loan_payments():\n",
    "    credit_sum = int(input('Credit sum in USD:\\n'))\n",
    "    credit_term = int(input('Credit term in monthes:\\n'))\n",
    "    annual_per = int(input('Annual interest on the loan:\\n'))\n",
    "    credit_term_years = float(credit_term/12)\n",
    "    per = annual_per/100\n",
    "    month_payment = round(float(credit_sum * per * (1 + per)**credit_term_years) / (12 * ((1 + per)**credit_term_years - 1)), 2)\n",
    "    sum_payment = round(float(month_payment*credit_term), 2)\n",
    "    \n",
    "    print(f\"Your month payment will be USD{month_payment}\\nTotally you'll have to pay USD{sum_payment}\")\n",
    "    return month_payment, sum_payment\n",
    "\n",
    "loan_payments()"
   ]
  },
  {
   "cell_type": "markdown",
   "metadata": {},
   "source": [
    "**_*Користувач вводить дві букви. Визначити на яких місцях алфавіту вони стоять і скільки між ними знаходиться букв_**"
   ]
  },
  {
   "cell_type": "code",
   "execution_count": null,
   "metadata": {},
   "outputs": [],
   "source": [
    "#version 1\n",
    "\n",
    "import string\n",
    "alphabet = string.ascii_lowercase\n",
    "positions = range(1, 27)\n",
    "alphabet_dict = dict(zip(positions, alphabet))\n",
    "user_input = list(input('Input 2 letters:\\n'))\n",
    "\n",
    "letter_position = [key for letter in user_input for key,value in alphabet_dict.items() if letter == value]\n",
    "letter_position = sorted(letter_position)\n",
    "\n",
    "print(f'{user_input[0]} is {letter_position[0]} in alphabet\\n{user_input[1]} is {letter_position[1]} in alphabet')\n",
    "\n",
    "letters_between = letter_position[1] - letter_position[0] - 1\n",
    "\n",
    "print(f'Between these letters are {letters_between} letters.')"
   ]
  },
  {
   "cell_type": "code",
   "execution_count": null,
   "metadata": {},
   "outputs": [],
   "source": [
    "#version 2\n",
    "\n",
    "import string\n",
    "alphabet = string.ascii_lowercase\n",
    "positions = range(1, 27)\n",
    "alphabet_dict = dict(zip(positions, alphabet))\n",
    "user_input = list(input('Input 2 letters:\\n'))\n",
    "res = list()\n",
    "\n",
    "for letter in user_input:\n",
    "    for key, value in alphabet_dict.items():\n",
    "        if letter == value:\n",
    "            letter_position = key\n",
    "            res.append(letter_position)\n",
    "\n",
    "print(f'Letter {user_input[0]} is {res[0]} in alphabet\\nLetter {user_input[1]} is {res[1]} in alphabet')\n",
    "sorted_res = sorted(res)\n",
    "between = sorted_res[1] - sorted_res[0] - 1\n",
    "print(f'Between these letters are {between} letters.')"
   ]
  }
 ],
 "metadata": {
  "kernelspec": {
   "display_name": "Python 3",
   "language": "python",
   "name": "python3"
  },
  "language_info": {
   "codemirror_mode": {
    "name": "ipython",
    "version": 3
   },
   "file_extension": ".py",
   "mimetype": "text/x-python",
   "name": "python",
   "nbconvert_exporter": "python",
   "pygments_lexer": "ipython3",
   "version": "3.8.5"
  }
 },
 "nbformat": 4,
 "nbformat_minor": 4
}
