{
 "cells": [
  {
   "cell_type": "code",
   "execution_count": null,
   "metadata": {},
   "outputs": [],
   "source": [
    "#Exercise 1\n",
    "\n",
    "name = 'Kateryna Merzlykina'\n",
    "address = ['757.727.0900', '600 Settlers Landing Rd.', 'Hampton, VA 23669']\n",
    "def envelope(name, address):\n",
    "    print_envelope = print(f'Name:\\n{name}\\n\\nAddress:\\n{address[0]}\\n{address[1]}\\n{address[2]}')\n",
    "    return print_envelope\n",
    "envelope(name, address)"
   ]
  },
  {
   "cell_type": "code",
   "execution_count": null,
   "metadata": {},
   "outputs": [],
   "source": [
    "#Exercise 2\n",
    "\n",
    "def greeting_user():\n",
    "    name = input('Enter you name, please\\n')\n",
    "    greeting = print(f'Hello, {name.title()}!')\n",
    "    return greeting\n",
    "greeting_user()"
   ]
  },
  {
   "cell_type": "code",
   "execution_count": null,
   "metadata": {},
   "outputs": [],
   "source": []
  }
 ],
 "metadata": {
  "kernelspec": {
   "display_name": "Python 3",
   "language": "python",
   "name": "python3"
  },
  "language_info": {
   "codemirror_mode": {
    "name": "ipython",
    "version": 3
   },
   "file_extension": ".py",
   "mimetype": "text/x-python",
   "name": "python",
   "nbconvert_exporter": "python",
   "pygments_lexer": "ipython3",
   "version": "3.8.5"
  }
 },
 "nbformat": 4,
 "nbformat_minor": 4
}
